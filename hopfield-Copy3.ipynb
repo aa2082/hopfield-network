{
 "cells": [
  {
   "cell_type": "code",
   "execution_count": 7,
   "id": "09693c69",
   "metadata": {},
   "outputs": [],
   "source": [
    "import cv2\n",
    "import numpy as np\n",
    "import matplotlib.pyplot as plt\n",
    "from numba import jit\n",
    "from tqdm.notebook import tqdm\n",
    "import random"
   ]
  },
  {
   "cell_type": "code",
   "execution_count": 8,
   "id": "1f366284",
   "metadata": {},
   "outputs": [
    {
     "ename": "NameError",
     "evalue": "name 'nbits' is not defined",
     "output_type": "error",
     "traceback": [
      "\u001b[0;31m---------------------------------------------------------------------------\u001b[0m",
      "\u001b[0;31mNameError\u001b[0m                                 Traceback (most recent call last)",
      "\u001b[0;32m<ipython-input-8-6e5efd815791>\u001b[0m in \u001b[0;36m<module>\u001b[0;34m\u001b[0m\n\u001b[1;32m      2\u001b[0m \u001b[0mim_dim\u001b[0m \u001b[0;34m=\u001b[0m \u001b[0;36m100\u001b[0m\u001b[0;34m\u001b[0m\u001b[0;34m\u001b[0m\u001b[0m\n\u001b[1;32m      3\u001b[0m \u001b[0;34m\u001b[0m\u001b[0m\n\u001b[0;32m----> 4\u001b[0;31m \u001b[0mr\u001b[0m \u001b[0;34m=\u001b[0m \u001b[0mnp\u001b[0m\u001b[0;34m.\u001b[0m\u001b[0mrandom\u001b[0m\u001b[0;34m.\u001b[0m\u001b[0mrandint\u001b[0m\u001b[0;34m(\u001b[0m\u001b[0;36m2\u001b[0m\u001b[0;34m,\u001b[0m \u001b[0msize\u001b[0m\u001b[0;34m=\u001b[0m\u001b[0;34m(\u001b[0m\u001b[0mM\u001b[0m\u001b[0;34m,\u001b[0m\u001b[0mnbits\u001b[0m\u001b[0;34m)\u001b[0m\u001b[0;34m)\u001b[0m\u001b[0;34m\u001b[0m\u001b[0;34m\u001b[0m\u001b[0m\n\u001b[0m\u001b[1;32m      5\u001b[0m \u001b[0;34m\u001b[0m\u001b[0m\n\u001b[1;32m      6\u001b[0m \u001b[0mW\u001b[0m \u001b[0;34m=\u001b[0m \u001b[0mnp\u001b[0m\u001b[0;34m.\u001b[0m\u001b[0mzeros\u001b[0m\u001b[0;34m(\u001b[0m\u001b[0;34m(\u001b[0m\u001b[0mnbits\u001b[0m\u001b[0;34m,\u001b[0m\u001b[0mnbits\u001b[0m\u001b[0;34m)\u001b[0m\u001b[0;34m)\u001b[0m\u001b[0;34m\u001b[0m\u001b[0;34m\u001b[0m\u001b[0m\n",
      "\u001b[0;31mNameError\u001b[0m: name 'nbits' is not defined"
     ]
    }
   ],
   "source": [
    "M = 100\n",
    "im_dim = 100\n",
    "\n",
    "r = np.random.randint(2, size=(M,nbits))\n",
    "\n",
    "W = np.zeros((nbits,nbits))\n",
    "for i in range(M):\n",
    "    W += np.outer((r[i]-1/2),(r[i]-1/2))#finding weights based on image\n",
    "    \n",
    "print(np.shape(W))\n",
    "np.fill_diagonal(W,0)\n",
    "\n",
    "#@jit(nopython=True)\n",
    "def run(iterations,W,neurons,interval):\n",
    "    imgs_interval = []\n",
    "    neurons_interval = []\n",
    "    neuron_iter = neurons\n",
    "    for i in tqdm(range(iterations)):\n",
    "        index = random.sample(range(0, len(neurons)), 100);\n",
    "        selecW = W[index,:]\n",
    "        selecW = selecW[:,index]\n",
    "        neuron_iter[index] = np.dot(selecW,neuron_iter[index])>=0\n",
    "        if i%interval==0:\n",
    "            imgs_interval.append(np.reshape(np.packbits(neuron_iter),im_size))\n",
    "            neurons_interval.append(neuron_iter)\n",
    "    return imgs_interval,neurons_interval"
   ]
  },
  {
   "cell_type": "code",
   "execution_count": 88,
   "id": "e52f3fdb",
   "metadata": {},
   "outputs": [],
   "source": []
  },
  {
   "cell_type": "code",
   "execution_count": 89,
   "id": "8b92fe1d",
   "metadata": {},
   "outputs": [
    {
     "name": "stdout",
     "output_type": "stream",
     "text": [
      "(800, 800)\n",
      "[[ 0.  -0.5  3.  ...  1.   2.5  2. ]\n",
      " [-0.5  0.  -3.5 ... -2.5 -4.   1.5]\n",
      " [ 3.  -3.5  0.  ...  4.   0.5 -6. ]\n",
      " ...\n",
      " [ 1.  -2.5  4.  ...  0.   0.5 -1. ]\n",
      " [ 2.5 -4.   0.5 ...  0.5  0.  -3.5]\n",
      " [ 2.   1.5 -6.  ... -1.  -3.5  0. ]]\n"
     ]
    }
   ],
   "source": [
    "print(np.shape(W))\n",
    "np.fill_diagonal(W,0)\n",
    "print(W)"
   ]
  },
  {
   "cell_type": "code",
   "execution_count": 90,
   "id": "449c73a9",
   "metadata": {},
   "outputs": [],
   "source": [
    "#@jit(nopython=True)\n",
    "def run(iterations,W,neurons,interval):\n",
    "    imgs_interval = []\n",
    "    neurons_interval = []\n",
    "    neuron_iter = neurons\n",
    "    for i in tqdm(range(iterations)):\n",
    "        index = random.sample(range(0, len(neurons)), 100);\n",
    "        selecW = W[index,:]\n",
    "        selecW = selecW[:,index]\n",
    "        neuron_iter[index] = np.dot(selecW,neuron_iter[index])>=0\n",
    "        if i%interval==0:\n",
    "            imgs_interval.append(np.reshape(np.packbits(neuron_iter),im_size))\n",
    "            neurons_interval.append(neuron_iter)\n",
    "    return imgs_interval,neurons_interval"
   ]
  },
  {
   "cell_type": "code",
   "execution_count": 91,
   "id": "20b5a1cb",
   "metadata": {},
   "outputs": [
    {
     "data": {
      "text/plain": [
       "<matplotlib.image.AxesImage at 0x7fece2184850>"
      ]
     },
     "execution_count": 91,
     "metadata": {},
     "output_type": "execute_result"
    },
    {
     "data": {
      "image/png": "[encoded data removed]",
      "text/plain": [
       "<Figure size 432x288 with 1 Axes>"
      ]
     },
     "metadata": {
      "needs_background": "light"
     },
     "output_type": "display_data"
    }
   ],
   "source": [
    "#create neural network with all neurons assigned 0/1 randomly with prob=0.5\n",
    "#except for the first neurons which are set to the values of the image\n",
    "neurons = r[0]\n",
    "#neurons[0:int(nbits*.5)] = to_use[0:int(nbits*.5)]\n",
    "#neurons[int(nbits*.7):nbits] = to_use[int(nbits*.7):nbits]\n",
    "plt.imshow(np.reshape(np.packbits(neurons[0:nbits]),im_size))"
   ]
  },
  {
   "cell_type": "code",
   "execution_count": 92,
   "id": "e97b4188",
   "metadata": {},
   "outputs": [
    {
     "data": {
      "application/vnd.jupyter.widget-view+json": {
       "model_id": "9e6815feff974294ba08cb97f34d5a22",
       "version_major": 2,
       "version_minor": 0
      },
      "text/plain": [
       "  0%|          | 0/1000 [00:00<?, ?it/s]"
      ]
     },
     "metadata": {},
     "output_type": "display_data"
    }
   ],
   "source": [
    "imgs,neurons = run(1000,W,neurons,10)"
   ]
  },
  {
   "cell_type": "code",
   "execution_count": 93,
   "id": "3f1d9026",
   "metadata": {},
   "outputs": [
    {
     "data": {
      "text/plain": [
       "[]"
      ]
     },
     "execution_count": 93,
     "metadata": {},
     "output_type": "execute_result"
    },
    {
     "data": {
      "image/png": "[encoded data removed]",
      "text/plain": [
       "<Figure size 432x288 with 4 Axes>"
      ]
     },
     "metadata": {},
     "output_type": "display_data"
    }
   ],
   "source": [
    "fig, axs = plt.subplots(1,4)\n",
    "axs[0].imshow(imgs[0]);\n",
    "axs[0].set_xticks([])\n",
    "axs[0].set_yticks([])\n",
    "axs[1].imshow(imgs[33]);\n",
    "axs[1].set_xticks([])\n",
    "axs[1].set_yticks([])\n",
    "axs[2].imshow(imgs[66]);\n",
    "axs[2].set_xticks([])\n",
    "axs[2].set_yticks([])\n",
    "axs[3].imshow(imgs[99]);\n",
    "axs[3].set_xticks([])\n",
    "axs[3].set_yticks([])"
   ]
  },
  {
   "cell_type": "code",
   "execution_count": 94,
   "id": "c138a54f",
   "metadata": {
    "scrolled": true
   },
   "outputs": [
    {
     "name": "stdout",
     "output_type": "stream",
     "text": [
      "1.0\n"
     ]
    }
   ],
   "source": [
    "err = (imgs[0]-imgs[99])>0\n",
    "err = np.mean(err)\n",
    "print(err)"
   ]
  }
 ],
 "metadata": {
  "kernelspec": {
   "display_name": "Python 3",
   "language": "python",
   "name": "python3"
  },
  "language_info": {
   "codemirror_mode": {
    "name": "ipython",
    "version": 3
   },
   "file_extension": ".py",
   "mimetype": "text/x-python",
   "name": "python",
   "nbconvert_exporter": "python",
   "pygments_lexer": "ipython3",
   "version": "3.8.8"
  }
 },
 "nbformat": 4,
 "nbformat_minor": 5
}

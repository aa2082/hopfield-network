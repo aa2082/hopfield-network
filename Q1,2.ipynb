{
 "cells": [
  {
   "cell_type": "code",
   "execution_count": 1,
   "id": "b8ee375c",
   "metadata": {},
   "outputs": [],
   "source": [
    "import matplotlib.pyplot as plt\n",
    "import numpy as np\n",
    "import pandas as pd\n",
    "\n",
    "from __future__ import print_function\n",
    "from ipywidgets import interact, interactive, fixed, interact_manual\n",
    "import ipywidgets as widgets"
   ]
  },
  {
   "cell_type": "code",
   "execution_count": 38,
   "id": "6fa4c04e",
   "metadata": {},
   "outputs": [
    {
     "data": {
      "image/png": "[encoded data removed]",
      "text/plain": [
       "<Figure size 432x288 with 1 Axes>"
      ]
     },
     "metadata": {
      "needs_background": "light"
     },
     "output_type": "display_data"
    }
   ],
   "source": [
    "N = 1E20 # numebr of neurons\n",
    "M = np.linspace(2,N*10,10000) #number of patterns\n",
    "\n",
    "def SNR(N,M):\n",
    "    return 0.5*(N-1)/(M-1)\n",
    "\n",
    "plt.plot(M,SNR(N,M));"
   ]
  },
  {
   "cell_type": "code",
   "execution_count": 39,
   "id": "5506b69e",
   "metadata": {},
   "outputs": [
    {
     "data": {
      "text/plain": [
       "Text(0, 0.5, 'P(E)')"
      ]
     },
     "execution_count": 39,
     "metadata": {},
     "output_type": "execute_result"
    },
    {
     "data": {
      "image/png": "[encoded data removed]",
      "text/plain": [
       "<Figure size 432x288 with 1 Axes>"
      ]
     },
     "metadata": {
      "needs_background": "light"
     },
     "output_type": "display_data"
    }
   ],
   "source": [
    "def P_E(SNR):\n",
    "    return 1/(SNR+1)\n",
    "plt.plot(np.log10(M),P_E(SNR(N,M)));\n",
    "plt.xlabel(\"log patterns\")\n",
    "plt.ylabel(\"P(E)\")"
   ]
  },
  {
   "cell_type": "code",
   "execution_count": 28,
   "id": "59ff720c",
   "metadata": {},
   "outputs": [
    {
     "name": "stderr",
     "output_type": "stream",
     "text": [
      "<ipython-input-26-ddb5a3bcec38>:5: RuntimeWarning: divide by zero encountered in true_divide\n",
      "  return 0.5*(N-1)/(M-1)\n"
     ]
    }
   ],
   "source": [
    "Ms_for_q = np.array([1,2,5,10,20,50,100,200,500,1000])\n",
    "P_E_for_q = P_E(SNR(N,Ms_for_q))\n",
    "table = np.vstack((Ms_for_q,P_E_for_q))\n",
    "pd_table = pd.DataFrame(table,index=['M','P(E)'])"
   ]
  },
  {
   "cell_type": "code",
   "execution_count": 23,
   "id": "68004199",
   "metadata": {},
   "outputs": [
    {
     "data": {
      "text/html": [
       "<div>\n",
       "<style scoped>\n",
       "    .dataframe tbody tr th:only-of-type {\n",
       "        vertical-align: middle;\n",
       "    }\n",
       "\n",
       "    .dataframe tbody tr th {\n",
       "        vertical-align: top;\n",
       "    }\n",
       "\n",
       "    .dataframe thead th {\n",
       "        text-align: right;\n",
       "    }\n",
       "</style>\n",
       "<table border=\"1\" class=\"dataframe\">\n",
       "  <thead>\n",
       "    <tr style=\"text-align: right;\">\n",
       "      <th></th>\n",
       "      <th>0</th>\n",
       "      <th>1</th>\n",
       "      <th>2</th>\n",
       "      <th>3</th>\n",
       "      <th>4</th>\n",
       "      <th>5</th>\n",
       "      <th>6</th>\n",
       "      <th>7</th>\n",
       "      <th>8</th>\n",
       "      <th>9</th>\n",
       "    </tr>\n",
       "  </thead>\n",
       "  <tbody>\n",
       "    <tr>\n",
       "      <th>M</th>\n",
       "      <td>1.0</td>\n",
       "      <td>2.000000e+00</td>\n",
       "      <td>5.000000e+00</td>\n",
       "      <td>1.000000e+01</td>\n",
       "      <td>2.000000e+01</td>\n",
       "      <td>5.000000e+01</td>\n",
       "      <td>1.000000e+02</td>\n",
       "      <td>2.000000e+02</td>\n",
       "      <td>5.000000e+02</td>\n",
       "      <td>1000.000000</td>\n",
       "    </tr>\n",
       "    <tr>\n",
       "      <th>P(E)</th>\n",
       "      <td>0.0</td>\n",
       "      <td>2.000000e-09</td>\n",
       "      <td>8.000000e-09</td>\n",
       "      <td>1.800000e-08</td>\n",
       "      <td>3.800000e-08</td>\n",
       "      <td>9.799999e-08</td>\n",
       "      <td>1.980000e-07</td>\n",
       "      <td>3.979998e-07</td>\n",
       "      <td>9.979990e-07</td>\n",
       "      <td>0.000002</td>\n",
       "    </tr>\n",
       "  </tbody>\n",
       "</table>\n",
       "</div>"
      ],
      "text/plain": [
       "        0             1             2             3             4  \\\n",
       "M     1.0  2.000000e+00  5.000000e+00  1.000000e+01  2.000000e+01   \n",
       "P(E)  0.0  2.000000e-09  8.000000e-09  1.800000e-08  3.800000e-08   \n",
       "\n",
       "                 5             6             7             8            9  \n",
       "M     5.000000e+01  1.000000e+02  2.000000e+02  5.000000e+02  1000.000000  \n",
       "P(E)  9.799999e-08  1.980000e-07  3.979998e-07  9.979990e-07     0.000002  "
      ]
     },
     "execution_count": 23,
     "metadata": {},
     "output_type": "execute_result"
    }
   ],
   "source": [
    "pd_table"
   ]
  },
  {
   "cell_type": "code",
   "execution_count": null,
   "id": "525d7d11",
   "metadata": {},
   "outputs": [],
   "source": []
  }
 ],
 "metadata": {
  "kernelspec": {
   "display_name": "Python 3",
   "language": "python",
   "name": "python3"
  },
  "language_info": {
   "codemirror_mode": {
    "name": "ipython",
    "version": 3
   },
   "file_extension": ".py",
   "mimetype": "text/x-python",
   "name": "python",
   "nbconvert_exporter": "python",
   "pygments_lexer": "ipython3",
   "version": "3.8.8"
  }
 },
 "nbformat": 4,
 "nbformat_minor": 5
}

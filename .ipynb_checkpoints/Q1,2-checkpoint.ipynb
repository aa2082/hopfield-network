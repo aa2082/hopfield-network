{
 "cells": [
  {
   "cell_type": "code",
   "execution_count": 83,
   "id": "b8ee375c",
   "metadata": {},
   "outputs": [],
   "source": [
    "import matplotlib.pyplot as plt\n",
    "import numpy as np\n",
    "import pandas as pd\n",
    "\n",
    "from __future__ import print_function\n",
    "from ipywidgets import interact, interactive, fixed, interact_manual\n",
    "import ipywidgets as widgets"
   ]
  },
  {
   "cell_type": "code",
   "execution_count": 84,
   "id": "6fa4c04e",
   "metadata": {},
   "outputs": [
    {
     "data": {
      "image/png": "[encoded data removed]",
      "text/plain": [
       "<Figure size 432x288 with 1 Axes>"
      ]
     },
     "metadata": {
      "needs_background": "light"
     },
     "output_type": "display_data"
    }
   ],
   "source": [
    "N = 1000 # numebr of neurons\n",
    "M = np.linspace(2,N*10,10000) #number of patterns\n",
    "\n",
    "def SNR(N,M):\n",
    "    return 0.5*(N-1)/(M-1)\n",
    "\n",
    "plt.plot(M,SNR(N,M));"
   ]
  },
  {
   "cell_type": "code",
   "execution_count": 85,
   "id": "5506b69e",
   "metadata": {},
   "outputs": [
    {
     "data": {
      "image/png": "[encoded data removed]",
      "text/plain": [
       "<Figure size 432x288 with 1 Axes>"
      ]
     },
     "metadata": {
      "needs_background": "light"
     },
     "output_type": "display_data"
    }
   ],
   "source": [
    "def P_E(SNR):\n",
    "    return 1/(SNR+1)\n",
    "plt.plot(np.log(M),P_E(SNR(N,M)));"
   ]
  },
  {
   "cell_type": "code",
   "execution_count": 86,
   "id": "59ff720c",
   "metadata": {},
   "outputs": [
    {
     "name": "stderr",
     "output_type": "stream",
     "text": [
      "<ipython-input-84-a847deb91f8f>:5: RuntimeWarning: divide by zero encountered in true_divide\n",
      "  return 0.5*(N-1)/(M-1)\n"
     ]
    }
   ],
   "source": [
    "Ms_for_q = np.array([1,2,5,10,20,50,100,200,500,1000])\n",
    "P_E_for_q = P_E(SNR(N,Ms_for_q))\n",
    "table = np.vstack((Ms_for_q,P_E_for_q))\n",
    "pd_table = pd.DataFrame(table,index=['M','P(E)'])"
   ]
  },
  {
   "cell_type": "code",
   "execution_count": 87,
   "id": "68004199",
   "metadata": {},
   "outputs": [
    {
     "data": {
      "text/html": [
       "<div>\n",
       "<style scoped>\n",
       "    .dataframe tbody tr th:only-of-type {\n",
       "        vertical-align: middle;\n",
       "    }\n",
       "\n",
       "    .dataframe tbody tr th {\n",
       "        vertical-align: top;\n",
       "    }\n",
       "\n",
       "    .dataframe thead th {\n",
       "        text-align: right;\n",
       "    }\n",
       "</style>\n",
       "<table border=\"1\" class=\"dataframe\">\n",
       "  <thead>\n",
       "    <tr style=\"text-align: right;\">\n",
       "      <th></th>\n",
       "      <th>0</th>\n",
       "      <th>1</th>\n",
       "      <th>2</th>\n",
       "      <th>3</th>\n",
       "      <th>4</th>\n",
       "      <th>5</th>\n",
       "      <th>6</th>\n",
       "      <th>7</th>\n",
       "      <th>8</th>\n",
       "      <th>9</th>\n",
       "    </tr>\n",
       "  </thead>\n",
       "  <tbody>\n",
       "    <tr>\n",
       "      <th>M</th>\n",
       "      <td>1.0</td>\n",
       "      <td>2.000000</td>\n",
       "      <td>5.000000</td>\n",
       "      <td>10.000000</td>\n",
       "      <td>20.000000</td>\n",
       "      <td>50.000000</td>\n",
       "      <td>100.000000</td>\n",
       "      <td>200.000000</td>\n",
       "      <td>500.00000</td>\n",
       "      <td>1000.000000</td>\n",
       "    </tr>\n",
       "    <tr>\n",
       "      <th>P(E)</th>\n",
       "      <td>0.0</td>\n",
       "      <td>0.001998</td>\n",
       "      <td>0.007944</td>\n",
       "      <td>0.017699</td>\n",
       "      <td>0.036644</td>\n",
       "      <td>0.089335</td>\n",
       "      <td>0.165414</td>\n",
       "      <td>0.284896</td>\n",
       "      <td>0.49975</td>\n",
       "      <td>0.666667</td>\n",
       "    </tr>\n",
       "  </tbody>\n",
       "</table>\n",
       "</div>"
      ],
      "text/plain": [
       "        0         1         2          3          4          5           6  \\\n",
       "M     1.0  2.000000  5.000000  10.000000  20.000000  50.000000  100.000000   \n",
       "P(E)  0.0  0.001998  0.007944   0.017699   0.036644   0.089335    0.165414   \n",
       "\n",
       "               7          8            9  \n",
       "M     200.000000  500.00000  1000.000000  \n",
       "P(E)    0.284896    0.49975     0.666667  "
      ]
     },
     "execution_count": 87,
     "metadata": {},
     "output_type": "execute_result"
    }
   ],
   "source": [
    "pd_table"
   ]
  },
  {
   "cell_type": "code",
   "execution_count": null,
   "id": "525d7d11",
   "metadata": {},
   "outputs": [],
   "source": []
  }
 ],
 "metadata": {
  "kernelspec": {
   "display_name": "Python 3",
   "language": "python",
   "name": "python3"
  },
  "language_info": {
   "codemirror_mode": {
    "name": "ipython",
    "version": 3
   },
   "file_extension": ".py",
   "mimetype": "text/x-python",
   "name": "python",
   "nbconvert_exporter": "python",
   "pygments_lexer": "ipython3",
   "version": "3.8.8"
  }
 },
 "nbformat": 4,
 "nbformat_minor": 5
}

{
 "cells": [
  {
   "cell_type": "code",
   "execution_count": 2,
   "id": "09693c69",
   "metadata": {},
   "outputs": [],
   "source": [
    "import cv2\n",
    "import numpy as np\n",
    "import matplotlib.pyplot as plt\n",
    "from numba import jit\n",
    "from tqdm.notebook import tqdm\n",
    "import random"
   ]
  },
  {
   "cell_type": "code",
   "execution_count": 3,
   "id": "1f366284",
   "metadata": {},
   "outputs": [
    {
     "ename": "NameError",
     "evalue": "name 'nbits' is not defined",
     "output_type": "error",
     "traceback": [
      "\u001b[0;31m---------------------------------------------------------------------------\u001b[0m",
      "\u001b[0;31mNameError\u001b[0m                                 Traceback (most recent call last)",
      "\u001b[0;32m<ipython-input-3-af016a957d8a>\u001b[0m in \u001b[0;36m<module>\u001b[0;34m\u001b[0m\n\u001b[1;32m      3\u001b[0m \u001b[0merrors\u001b[0m \u001b[0;34m=\u001b[0m \u001b[0;34m[\u001b[0m\u001b[0;34m]\u001b[0m\u001b[0;34m\u001b[0m\u001b[0;34m\u001b[0m\u001b[0m\n\u001b[1;32m      4\u001b[0m \u001b[0;32mfor\u001b[0m \u001b[0mi\u001b[0m \u001b[0;32min\u001b[0m \u001b[0mrange\u001b[0m\u001b[0;34m(\u001b[0m\u001b[0;36m5\u001b[0m\u001b[0;34m)\u001b[0m\u001b[0;34m:\u001b[0m\u001b[0;34m\u001b[0m\u001b[0;34m\u001b[0m\u001b[0m\n\u001b[0;32m----> 5\u001b[0;31m     \u001b[0mr\u001b[0m \u001b[0;34m=\u001b[0m \u001b[0mnp\u001b[0m\u001b[0;34m.\u001b[0m\u001b[0mrandom\u001b[0m\u001b[0;34m.\u001b[0m\u001b[0mrandint\u001b[0m\u001b[0;34m(\u001b[0m\u001b[0;36m2\u001b[0m\u001b[0;34m,\u001b[0m \u001b[0msize\u001b[0m\u001b[0;34m=\u001b[0m\u001b[0;34m(\u001b[0m\u001b[0mM\u001b[0m\u001b[0;34m,\u001b[0m\u001b[0mnbits\u001b[0m\u001b[0;34m)\u001b[0m\u001b[0;34m)\u001b[0m\u001b[0;34m\u001b[0m\u001b[0;34m\u001b[0m\u001b[0m\n\u001b[0m\u001b[1;32m      6\u001b[0m \u001b[0;34m\u001b[0m\u001b[0m\n\u001b[1;32m      7\u001b[0m     \u001b[0mW\u001b[0m \u001b[0;34m=\u001b[0m \u001b[0mnp\u001b[0m\u001b[0;34m.\u001b[0m\u001b[0mzeros\u001b[0m\u001b[0;34m(\u001b[0m\u001b[0;34m(\u001b[0m\u001b[0mnbits\u001b[0m\u001b[0;34m,\u001b[0m\u001b[0mnbits\u001b[0m\u001b[0;34m)\u001b[0m\u001b[0;34m)\u001b[0m\u001b[0;34m\u001b[0m\u001b[0;34m\u001b[0m\u001b[0m\n",
      "\u001b[0;31mNameError\u001b[0m: name 'nbits' is not defined"
     ]
    }
   ],
   "source": [
    "M = 1000\n",
    "im_dim = 100\n",
    "errors = []\n",
    "for i in range(5):\n",
    "    r = np.random.randint(2, size=(M,nbits))\n",
    "\n",
    "    W = np.zeros((nbits,nbits))\n",
    "    for i in range(M):\n",
    "        W += np.outer((r[i]-1/2),(r[i]-1/2))#finding weights based on image\n",
    "\n",
    "\n",
    "    np.fill_diagonal(W,0)\n",
    "\n",
    "    def run(iterations,W,neurons,interval):\n",
    "        imgs_interval = []\n",
    "        neurons_interval = []\n",
    "        neuron_iter = neurons\n",
    "        for i in tqdm(range(iterations)):\n",
    "            index = random.sample(range(0, len(neurons)), 100);\n",
    "            selecW = W[index,:]\n",
    "            selecW = selecW[:,index]\n",
    "            neuron_iter[index] = np.dot(selecW,neuron_iter[index])>=0\n",
    "            if i%interval==0:\n",
    "                imgs_interval.append(np.reshape(np.packbits(neuron_iter),im_size))\n",
    "                neurons_interval.append(neuron_iter)\n",
    "        return imgs_interval,neurons_interval\n",
    "\n",
    "    #create neural network with all neurons assigned 0/1 randomly with prob=0.5\n",
    "    #except for the first neurons which are set to the values of the image\n",
    "    neurons = r[0]\n",
    "    #plt.imshow(np.reshape(np.packbits(neurons[0:nbits]),im_size))\n",
    "    imgs,neurons = run(1000,W,neurons,10)\n",
    "    err = (imgs[0]-imgs[99])>0\n",
    "    err = np.mean(err)\n",
    "    errors.append(err)\n",
    "print(errors)"
   ]
  }
 ],
 "metadata": {
  "kernelspec": {
   "display_name": "Python 3",
   "language": "python",
   "name": "python3"
  },
  "language_info": {
   "codemirror_mode": {
    "name": "ipython",
    "version": 3
   },
   "file_extension": ".py",
   "mimetype": "text/x-python",
   "name": "python",
   "nbconvert_exporter": "python",
   "pygments_lexer": "ipython3",
   "version": "3.8.8"
  }
 },
 "nbformat": 4,
 "nbformat_minor": 5
}

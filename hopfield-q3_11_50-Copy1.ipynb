{
 "cells": [
  {
   "cell_type": "code",
   "execution_count": 47,
   "id": "09693c69",
   "metadata": {},
   "outputs": [],
   "source": [
    "import cv2\n",
    "import numpy as np\n",
    "import matplotlib.pyplot as plt\n",
    "from numba import jit\n",
    "from tqdm.notebook import tqdm\n",
    "import random"
   ]
  },
  {
   "cell_type": "code",
   "execution_count": 76,
   "id": "1f366284",
   "metadata": {},
   "outputs": [
    {
     "name": "stdout",
     "output_type": "stream",
     "text": [
      "(2, 5000)\n",
      "5000\n",
      "testing packing\n"
     ]
    },
    {
     "data": {
      "image/png": "[encoded data removed]",
      "text/plain": [
       "<Figure size 432x288 with 1 Axes>"
      ]
     },
     "metadata": {
      "needs_background": "light"
     },
     "output_type": "display_data"
    }
   ],
   "source": [
    "M = 2\n",
    "im_dim = 25\n",
    "im_size = (im_dim,im_dim)\n",
    "img1 = cv2.resize(cv2.imread('monkey.png',0),im_size) #load monkey image as greyscale\n",
    "img2 = cv2.resize(cv2.imread('dog.png',0),im_size) #load dog image as greyscale\n",
    "patterns = np.random.randint(2, size=(M,im_dim,im_dim),dtype=np.uint8);\n",
    "patterns[0,:,:] = img1\n",
    "patterns[1,:,:] = img2\n",
    "\n",
    "patterns_bits = np.unpackbits(np.reshape(patterns,(M,im_dim*im_dim)),axis=1)\n",
    "print(np.shape(patterns_bits)) #packing image patterns into vectors of bits\n",
    "nbits = np.shape(patterns_bits)[1]\n",
    "print(nbits)\n",
    "#testing unpacking patterns into vectors of bits\n",
    "print(\"testing packing\")\n",
    "test_patterns = np.reshape(np.packbits(patterns_bits,axis=1),(M,im_dim,im_dim)) \n",
    "plt.imshow(test_patterns[0]);"
   ]
  },
  {
   "cell_type": "code",
   "execution_count": 77,
   "id": "b8d58b31",
   "metadata": {},
   "outputs": [
    {
     "name": "stdout",
     "output_type": "stream",
     "text": [
      "[[ 0.   0.5  0.  ... -0.5 -0.5 -0.5]\n",
      " [ 0.5  0.   0.  ... -0.5 -0.5 -0.5]\n",
      " [ 0.   0.   0.  ...  0.   0.   0. ]\n",
      " ...\n",
      " [-0.5 -0.5  0.  ...  0.   0.5  0.5]\n",
      " [-0.5 -0.5  0.  ...  0.5  0.   0.5]\n",
      " [-0.5 -0.5  0.  ...  0.5  0.5  0. ]]\n"
     ]
    }
   ],
   "source": [
    "W = np.zeros((nbits,nbits))\n",
    "for i in range(M):\n",
    "    W += np.outer((patterns_bits[i,:]-1/2),(patterns_bits[i,:]-1/2))#finding weights based on image\n",
    "\n",
    "np.fill_diagonal(W,0)\n",
    "print(W)"
   ]
  },
  {
   "cell_type": "code",
   "execution_count": 78,
   "id": "449c73a9",
   "metadata": {},
   "outputs": [],
   "source": [
    "def run(iterations,W,neurons,interval):\n",
    "    imgs_interval = []\n",
    "    neurons_interval = []\n",
    "    neuron_iter = neurons\n",
    "    for i in tqdm(range(iterations)):\n",
    "        index = random.sample(range(0, len(neurons)), int(nbits/10));\n",
    "        selecW = W[index,:]\n",
    "        selecW = selecW[:,index]\n",
    "        neuron_iter[index] = np.dot(selecW,neuron_iter[index])>=0\n",
    "        if i%interval==0:\n",
    "            imgs_interval.append(np.reshape(np.packbits(neuron_iter),im_size))\n",
    "            neurons_interval.append(neuron_iter)\n",
    "    return imgs_interval,neurons_interval"
   ]
  },
  {
   "cell_type": "code",
   "execution_count": 79,
   "id": "20b5a1cb",
   "metadata": {},
   "outputs": [
    {
     "data": {
      "image/png": "[encoded data removed]",
      "text/plain": [
       "<Figure size 432x288 with 1 Axes>"
      ]
     },
     "metadata": {
      "needs_background": "light"
     },
     "output_type": "display_data"
    }
   ],
   "source": [
    "#create neural network with all neurons assigned 0/1 randomly with prob=0.5\n",
    "#except for the first neurons which are set to the values of the image\n",
    "to_use = patterns_bits[0,:]\n",
    "neurons = patterns_bits[0,:]\n",
    "#neurons[0:int(nbits*.5)] = to_use[0:int(nbits*.5)]\n",
    "#neurons[int(nbits*.7):nbits] = to_use[int(nbits*.7):nbits]\n",
    "plt.imshow(np.reshape(np.packbits(neurons),im_size));"
   ]
  },
  {
   "cell_type": "code",
   "execution_count": 80,
   "id": "e97b4188",
   "metadata": {},
   "outputs": [
    {
     "data": {
      "application/vnd.jupyter.widget-view+json": {
       "model_id": "af582c86f3ac41e887740259589c1e85",
       "version_major": 2,
       "version_minor": 0
      },
      "text/plain": [
       "  0%|          | 0/1000 [00:00<?, ?it/s]"
      ]
     },
     "metadata": {},
     "output_type": "display_data"
    }
   ],
   "source": [
    "imgs,neurons = run(1000,W,neurons,10)"
   ]
  },
  {
   "cell_type": "code",
   "execution_count": 81,
   "id": "c138a54f",
   "metadata": {
    "scrolled": true
   },
   "outputs": [
    {
     "data": {
      "text/plain": [
       "[]"
      ]
     },
     "execution_count": 81,
     "metadata": {},
     "output_type": "execute_result"
    },
    {
     "data": {
      "image/png": "[encoded data removed]",
      "text/plain": [
       "<Figure size 432x288 with 4 Axes>"
      ]
     },
     "metadata": {},
     "output_type": "display_data"
    }
   ],
   "source": [
    "fig, axs = plt.subplots(1,4)\n",
    "axs[0].imshow(imgs[0]);\n",
    "axs[0].set_xticks([])\n",
    "axs[0].set_yticks([])\n",
    "axs[1].imshow(imgs[33]);\n",
    "axs[1].set_xticks([])\n",
    "axs[1].set_yticks([])\n",
    "axs[2].imshow(imgs[66]);\n",
    "axs[2].set_xticks([])\n",
    "axs[2].set_yticks([])\n",
    "axs[3].imshow(imgs[99]);\n",
    "axs[3].set_xticks([])\n",
    "axs[3].set_yticks([])"
   ]
  },
  {
   "cell_type": "code",
   "execution_count": 82,
   "id": "c3a232be",
   "metadata": {},
   "outputs": [
    {
     "data": {
      "text/plain": [
       "0.0"
      ]
     },
     "execution_count": 82,
     "metadata": {},
     "output_type": "execute_result"
    }
   ],
   "source": [
    "err = (imgs[99]-imgs[0])>0\n",
    "np.mean(err)\n"
   ]
  }
 ],
 "metadata": {
  "kernelspec": {
   "display_name": "Python 3",
   "language": "python",
   "name": "python3"
  },
  "language_info": {
   "codemirror_mode": {
    "name": "ipython",
    "version": 3
   },
   "file_extension": ".py",
   "mimetype": "text/x-python",
   "name": "python",
   "nbconvert_exporter": "python",
   "pygments_lexer": "ipython3",
   "version": "3.8.8"
  }
 },
 "nbformat": 4,
 "nbformat_minor": 5
}

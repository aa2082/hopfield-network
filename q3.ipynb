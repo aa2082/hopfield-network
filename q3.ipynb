{
 "cells": [
  {
   "cell_type": "code",
   "execution_count": 32,
   "id": "09693c69",
   "metadata": {},
   "outputs": [],
   "source": [
    "import cv2\n",
    "import numpy as np\n",
    "import matplotlib.pyplot as plt\n",
    "from numba import jit\n",
    "from tqdm.notebook import tqdm\n",
    "import random\n",
    "import numpy.matlib"
   ]
  },
  {
   "cell_type": "code",
   "execution_count": 56,
   "id": "3b9a0fcc",
   "metadata": {},
   "outputs": [],
   "source": [
    "M = 1000 #number of patterns to make\n",
    "N = 100"
   ]
  },
  {
   "cell_type": "code",
   "execution_count": 67,
   "id": "96a89773",
   "metadata": {},
   "outputs": [
    {
     "name": "stdout",
     "output_type": "stream",
     "text": [
      "[1 1 0 0 1 1 0 0 1 1 1 1 0 1 1 0 0 0 1 1 1 1 1 0 0 1 0 0 0 1 1 0 0 1 1 1 1\n",
      " 0 1 0 1 0 0 1 0 0 1 0 0 0 1 0 0 0 0 0 1 1 0 0 0 0 1 0 1 1 1 0 1 1 0 0 0 0\n",
      " 1 1 0 0 1 1 0 0 0 1 0 0 0 1 0 1 0 0 0 1 1 0 1 0 0 0]\n",
      "<class 'numpy.ndarray'>\n",
      "<class 'numpy.dtype[int64]'>\n",
      "(100,)\n",
      "<class 'numpy.ndarray'>\n",
      "<class 'numpy.dtype[int64]'>\n",
      "(100,)\n",
      "[1 1 1 0 0 1 1 1 0 0 1 0 1 0 0 0 0 1 0 0 0 0 0 1 1 1 1 1 1 1 1 1 1 0 1 1 1\n",
      " 1 1 1 1 1 1 1 0 1 0 0 1 0 0 0 0 1 0 0 1 1 0 0 0 1 1 0 1 0 0 1 0 1 1 1 1 1\n",
      " 1 1 1 1 1 1 0 0 0 1 0 1 1 1 1 0 1 1 0 0 0 1 1 1 1 0]\n",
      "[0 0 0 0 0 0 0 0 0 0 0 0 0 0 0 0 0 0 0 0 0 0 0 0 0 0 0 0 0 0 0 0 0 0 0 0 0\n",
      " 0 0 0 0 0 0 0 0 0 0 0 0 0 0 0 0 0 0 0 0 0 0 0 0 0 0 0 0 0 0 0 0 0 0 0 0 0\n",
      " 0 0 0 0 0 0 0 0 0 0 0 0 0 0 0 0 0 0 0 0 0 0 0 0 0 0]\n",
      "0.0\n"
     ]
    }
   ],
   "source": [
    "def hopf(iterations,W,neurons,sparseness):\n",
    "    neuron_iter = neurons\n",
    "    for i in range(iterations):\n",
    "        index = random.sample(range(0, len(neurons)), int(N/sparseness));\n",
    "        selecW = W[index,:]\n",
    "        selecW = selecW[:,index]\n",
    "        neuron_iter[index] = np.dot(selecW,neuron_iter[index])>=0\n",
    "    return neuron_iter\n",
    "\n",
    "r = np.random.randint(2,size=(M,N))\n",
    "\n",
    "#create W matrix\n",
    "W = np.zeros((N,N))\n",
    "for i in range(M):\n",
    "    W += np.outer((r[i,:]-1/2),(r[i,:]-1/2)) #finding weights based on image   \n",
    "np.fill_diagonal(W,0)\n",
    "\n",
    "k = 0\n",
    "to_use = r[k,:]\n",
    "print(r[k,:])\n",
    "print(type(r[k,:]))\n",
    "print(type(r[k,:].dtype))\n",
    "print(np.shape(r[k,:]))\n",
    "final = hopf(1000,W,to_use,10)\n",
    "print(type(final))\n",
    "print(type(final.dtype))\n",
    "print(np.shape(final))\n",
    "print(final)\n",
    "err = np.subtract(final,r[k,:])\n",
    "print(err)\n",
    "print(pe)"
   ]
  },
  {
   "cell_type": "code",
   "execution_count": null,
   "id": "d1fd2436",
   "metadata": {},
   "outputs": [],
   "source": []
  }
 ],
 "metadata": {
  "kernelspec": {
   "display_name": "Python 3",
   "language": "python",
   "name": "python3"
  },
  "language_info": {
   "codemirror_mode": {
    "name": "ipython",
    "version": 3
   },
   "file_extension": ".py",
   "mimetype": "text/x-python",
   "name": "python",
   "nbconvert_exporter": "python",
   "pygments_lexer": "ipython3",
   "version": "3.8.8"
  }
 },
 "nbformat": 4,
 "nbformat_minor": 5
}
